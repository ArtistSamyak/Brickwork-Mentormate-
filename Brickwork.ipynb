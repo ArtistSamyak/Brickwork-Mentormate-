{
  "nbformat": 4,
  "nbformat_minor": 0,
  "metadata": {
    "colab": {
      "name": "Brickwork.ipynb",
      "provenance": [],
      "collapsed_sections": [],
      "authorship_tag": "ABX9TyP3jeY4gzfNWs4UjFSj1qPa",
      "include_colab_link": true
    },
    "kernelspec": {
      "name": "python3",
      "display_name": "Python 3"
    }
  },
  "cells": [
    {
      "cell_type": "markdown",
      "metadata": {
        "id": "view-in-github",
        "colab_type": "text"
      },
      "source": [
        "<a href=\"https://colab.research.google.com/github/ArtistSamyak/Brickwork-Mentormate-/blob/main/Brickwork.ipynb\" target=\"_parent\"><img src=\"https://colab.research.google.com/assets/colab-badge.svg\" alt=\"Open In Colab\"/></a>"
      ]
    },
    {
      "cell_type": "markdown",
      "metadata": {
        "id": "n3rryNHIbm35"
      },
      "source": [
        "**Get Values of M & N and validate.**\n"
      ]
    },
    {
      "cell_type": "code",
      "metadata": {
        "colab": {
          "base_uri": "https://localhost:8080/"
        },
        "id": "y-CfNWtcZ0jL",
        "outputId": "a1614325-9687-4b18-9b25-c374ce40e9a3"
      },
      "source": [
        "print(\"Enter Dimentions of the layer:\")\n",
        "dimention = str(input())\n",
        "M = int(dimention[0])\n",
        "N = int(dimention[2])\n",
        "print(M, N)\n",
        "if(M%2 == 0 and N%2 == 0 and ( M*N ) < 100):\n",
        "  print(\"Valid\")\n",
        "else:\n",
        "  print(\"Invalid! Please run this block of code again.\")"
      ],
      "execution_count": 56,
      "outputs": [
        {
          "output_type": "stream",
          "text": [
            "Enter Dimentions of the layer:\n",
            "2 4\n",
            "2 4\n",
            "Valid\n"
          ],
          "name": "stdout"
        }
      ]
    },
    {
      "cell_type": "markdown",
      "metadata": {
        "id": "OnpVr0Tyb2_r"
      },
      "source": [
        "**Get layer 1**"
      ]
    },
    {
      "cell_type": "code",
      "metadata": {
        "colab": {
          "base_uri": "https://localhost:8080/"
        },
        "id": "oarR5SL4b7NA",
        "outputId": "58b260e1-7a48-46c1-c604-1e10c0b9ae81"
      },
      "source": [
        "totalNumberOfBricks = int((M * N)/2)\n",
        "allBrickNumbers = []\n",
        "for i in range(totalNumberOfBricks):\n",
        "  allBrickNumbers.append(i+1)\n",
        "\n",
        "layer1 = []\n",
        "for i in range(M):\n",
        "  a = list(map(int,input(\"\\nEnter the brick numbers: \").strip().split()))[:N]\n",
        "  if(len(a) == N):\n",
        "    layer1.append(a)\n",
        "    print(\"Valid\")\n",
        "  else:\n",
        "    print(\"Invalid Input. Please run this block of code again.\")\n",
        "\n",
        "for i in allBrickNumbers:\n",
        "  count = 0\n",
        "  for j in layer1:\n",
        "    for k in j:\n",
        "      if(k == i):\n",
        "        count = count + 1\n",
        "  \n",
        "  if(count != 2):\n",
        "    print(\"Invalid Input. Please run this block of code again.\")\n",
        "    break\n",
        "\n"
      ],
      "execution_count": 92,
      "outputs": [
        {
          "output_type": "stream",
          "text": [
            "\n",
            "Enter the brick numbers: 2 1 1 4\n",
            "\n",
            "Enter the brick numbers: 2 3 3 4\n"
          ],
          "name": "stdout"
        }
      ]
    },
    {
      "cell_type": "markdown",
      "metadata": {
        "id": "jRmLgReJpCXo"
      },
      "source": [
        "**Initialise Layer2 with 0**"
      ]
    },
    {
      "cell_type": "code",
      "metadata": {
        "colab": {
          "base_uri": "https://localhost:8080/"
        },
        "id": "YHtqjSn_ixuv",
        "outputId": "0cfac74a-367d-40fb-a248-7ba98ead64ca"
      },
      "source": [
        "layer2 = []\n",
        "\n",
        "for i in range(M):\n",
        "  a = [0] * N\n",
        "  layer2.append(a)\n",
        "\n",
        "print(layer2)"
      ],
      "execution_count": 93,
      "outputs": [
        {
          "output_type": "stream",
          "text": [
            "[[0, 0, 0, 0], [0, 0, 0, 0]]\n"
          ],
          "name": "stdout"
        }
      ]
    },
    {
      "cell_type": "markdown",
      "metadata": {
        "id": "Dz73ZI3yXNKi"
      },
      "source": [
        "**Finding the arrangement if possible**"
      ]
    },
    {
      "cell_type": "code",
      "metadata": {
        "colab": {
          "base_uri": "https://localhost:8080/"
        },
        "id": "wAhKOKkN6TtA",
        "outputId": "fdeda95c-e1f5-4b25-f36a-b1bd6300e1ef"
      },
      "source": [
        "count = 0\n",
        "for i in range(M):\n",
        "  for j in range(N-1):\n",
        "    if(layer1[i][j] != layer1[i][j+1] and layer2[i][j] == 0):\n",
        "      count = count + 1\n",
        "      layer2[i][j] = count \n",
        "      layer2[i][j+1] = count\n",
        "      \n",
        "for i in range(N):\n",
        "  for j in range(M-1):\n",
        "    if(layer1[j][i] != layer1[j+1][i] and layer2[j][i] == 0 and layer2[j+1][i] == 0):\n",
        "      count = count + 1\n",
        "      layer2[j][i] = count \n",
        "      layer2[j+1][i] = count\n",
        "\n",
        "def ShowLayer(layername,layer):\n",
        "  print(layername)\n",
        "  for i in layer:\n",
        "    print(i)\n",
        "\n",
        "isValid = True\n",
        "\n",
        "for i in layer2:\n",
        "  for j in layer2:\n",
        "    if(j == 0):\n",
        "      print(\"No Solution Exists (-1)\")\n",
        "      isValid = False\n",
        "    \n",
        "if(isValid):\n",
        "  ShowLayer(\"Layer 1: \", layer1)\n",
        "  ShowLayer(\"\\nLayer 2: \", layer2)\n"
      ],
      "execution_count": 94,
      "outputs": [
        {
          "output_type": "stream",
          "text": [
            "Layer 1: \n",
            "[2, 1, 1, 4]\n",
            "[2, 3, 3, 4]\n",
            "\n",
            "Layer 2: \n",
            "[1, 1, 2, 2]\n",
            "[3, 3, 4, 4]\n"
          ],
          "name": "stdout"
        }
      ]
    }
  ]
}